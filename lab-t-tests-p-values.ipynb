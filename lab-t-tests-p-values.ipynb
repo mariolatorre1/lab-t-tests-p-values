{
 "cells": [
  {
   "cell_type": "code",
   "execution_count": 1,
   "id": "41fb3462",
   "metadata": {},
   "outputs": [],
   "source": [
    "import pandas as pd\n",
    "import numpy as np\n",
    "import statistics as st\n",
    "from numpy import mean\n",
    "from scipy.stats import sem\n",
    "from scipy.stats import t\n",
    "from math import sqrt\n",
    "from scipy.stats import ttest_ind"
   ]
  },
  {
   "cell_type": "code",
   "execution_count": 2,
   "id": "dcae6a02",
   "metadata": {},
   "outputs": [],
   "source": [
    "new_machine = [42.1, 41, 41.3, 41.8, 42.4, 42.8, 43.2, 42.3, 41.8, 42.7]    \n",
    "old_machine = [42.7, 43.6, 43.8, 43.3, 42.5, 43.5, 43.1, 41.7, 44, 44.1]"
   ]
  },
  {
   "cell_type": "code",
   "execution_count": 3,
   "id": "0c878e46",
   "metadata": {},
   "outputs": [
    {
     "data": {
      "text/plain": [
       "42.14"
      ]
     },
     "execution_count": 3,
     "metadata": {},
     "output_type": "execute_result"
    }
   ],
   "source": [
    "new_machine_mean = st.mean(new_machine)\n",
    "new_machine_mean"
   ]
  },
  {
   "cell_type": "code",
   "execution_count": 4,
   "id": "7065dd97",
   "metadata": {},
   "outputs": [
    {
     "data": {
      "text/plain": [
       "43.230000000000004"
      ]
     },
     "execution_count": 4,
     "metadata": {},
     "output_type": "execute_result"
    }
   ],
   "source": [
    "old_machine_mean = st.mean(old_machine)\n",
    "old_machine_mean"
   ]
  },
  {
   "cell_type": "code",
   "execution_count": 5,
   "id": "26c5be73",
   "metadata": {},
   "outputs": [
    {
     "data": {
      "text/plain": [
       "Ttest_indResult(statistic=-3.3972307061176026, pvalue=0.0032111425007745158)"
      ]
     },
     "execution_count": 5,
     "metadata": {},
     "output_type": "execute_result"
    }
   ],
   "source": [
    "ttest_ind(new_machine, old_machine)"
   ]
  },
  {
   "cell_type": "code",
   "execution_count": 6,
   "id": "dadcbe76",
   "metadata": {},
   "outputs": [],
   "source": [
    "# With this pvalue we can reject the null hypothesis with 95% of confidence. The average time that it takes to \n",
    "# pack 10 cartons is faster with the new machine (42.1 seconds) than with the old one (43.2)."
   ]
  },
  {
   "cell_type": "code",
   "execution_count": 7,
   "id": "092a3689",
   "metadata": {},
   "outputs": [],
   "source": [
    "sophomores = [3.04,1.71,3.3,2.88,2.11,2.6,2.92,3.6,2.28,2.82,3.03,3.13,2.86,3.49,3.11,2.13,3.27]\n",
    "juniors = [2.56,2.77,2.7,3,2.98,3.47,3.26,3.2,3.19,2.65,3,3.39,2.58]"
   ]
  },
  {
   "cell_type": "code",
   "execution_count": 8,
   "id": "4ed3e193",
   "metadata": {},
   "outputs": [
    {
     "data": {
      "text/plain": [
       "Ttest_indResult(statistic=-0.9231495630900278, pvalue=0.3642180675348571)"
      ]
     },
     "execution_count": 8,
     "metadata": {},
     "output_type": "execute_result"
    }
   ],
   "source": [
    "ttest_ind(sophomores, juniors, equal_var=False)"
   ]
  },
  {
   "cell_type": "code",
   "execution_count": 9,
   "id": "6ae0ea00",
   "metadata": {},
   "outputs": [],
   "source": [
    "def independent_ttest(data1, data2, alpha):\n",
    "    mean1, mean2 = mean(data1), mean(data2)\n",
    "    se1, se2 = sem(data1), sem(data2)\n",
    "    sed = sqrt(se1**2.0 + se2**2.0)\n",
    "    t_stat = (mean1 - mean2) / sed\n",
    "    dof = len(data1) + len(data2) - 2\n",
    "    cvalue = t.ppf(1.0 - alpha, dof)\n",
    "    p = (1.0 - t.cdf(abs(t_stat), dof)) * 2.0\n",
    "    return print('t_stat=%.3f, degrees_of_freedom=%.3f, critical_value=%3.f, p=%.3f' % (t_stat, dof, cvalue, p))"
   ]
  },
  {
   "cell_type": "code",
   "execution_count": 10,
   "id": "43ae758a",
   "metadata": {},
   "outputs": [
    {
     "name": "stdout",
     "output_type": "stream",
     "text": [
      "t_stat=-0.923, degrees_of_freedom=28.000, critical_value=  2, p=0.364\n"
     ]
    }
   ],
   "source": [
    "independent_ttest(sophomores, juniors, 0.05)"
   ]
  },
  {
   "cell_type": "code",
   "execution_count": 11,
   "id": "a4faaf7f",
   "metadata": {},
   "outputs": [],
   "source": [
    "# With the this data we don't have enough evidence to conclude that the mean GPAs of sophomores and juniors \n",
    "# at the university differ"
   ]
  }
 ],
 "metadata": {
  "kernelspec": {
   "display_name": "Python 3 (ipykernel)",
   "language": "python",
   "name": "python3"
  },
  "language_info": {
   "codemirror_mode": {
    "name": "ipython",
    "version": 3
   },
   "file_extension": ".py",
   "mimetype": "text/x-python",
   "name": "python",
   "nbconvert_exporter": "python",
   "pygments_lexer": "ipython3",
   "version": "3.9.7"
  }
 },
 "nbformat": 4,
 "nbformat_minor": 5
}
